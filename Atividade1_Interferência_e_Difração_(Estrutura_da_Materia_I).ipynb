{
  "nbformat": 4,
  "nbformat_minor": 0,
  "metadata": {
    "colab": {
      "name": "Atividade1: Interferência e Difração (Estrutura da Materia I)",
      "provenance": [],
      "authorship_tag": "ABX9TyMA/3Hu1xQdCUh82V66gfS8",
      "include_colab_link": true
    },
    "kernelspec": {
      "name": "python3",
      "display_name": "Python 3"
    }
  },
  "cells": [
    {
      "cell_type": "markdown",
      "metadata": {
        "id": "view-in-github",
        "colab_type": "text"
      },
      "source": [
        "<a href=\"https://colab.research.google.com/github/TayanSequeira/Estrutura-da-materia-I/blob/main/Atividade1_Interfer%C3%AAncia_e_Difra%C3%A7%C3%A3o_(Estrutura_da_Materia_I).ipynb\" target=\"_parent\"><img src=\"https://colab.research.google.com/assets/colab-badge.svg\" alt=\"Open In Colab\"/></a>"
      ]
    },
    {
      "cell_type": "markdown",
      "metadata": {
        "id": "XPCe0WfW4C7z"
      },
      "source": [
        "Dilson segue os calculos pedidos"
      ]
    },
    {
      "cell_type": "code",
      "metadata": {
        "id": "zACLIaOzuNCV",
        "outputId": "bbd18133-ee3e-492e-f954-9fdf5a7cc8ed",
        "colab": {
          "base_uri": "https://localhost:8080/"
        }
      },
      "source": [
        "import numpy as np\n",
        "\n",
        "D = (277.3 - 5) / 100\n",
        "d = np.array([0.25, 0.50, 0.25, 0.50]) / 1000\n",
        "\n",
        "x = D / d\n",
        "y = (np.array([2.7, 3.1, 2.1, 1.8]) / np.array([4, 9, 3, 5])) / 100\n",
        "\n",
        "def lsq_sq(x, y):\n",
        "  n = np.size(x)\n",
        "  mx, my = np.mean(x), np.mean(y)\n",
        "\n",
        "  cov = np.mean(x * y) - mx * my\n",
        "  var = np.var(x)\n",
        "\n",
        "  a = cov / var\n",
        "  b = my - a * mx\n",
        "  ey = np.sqrt(np.sum(np.power(y - (a * x + b), 2) / (n - 2)))\n",
        "\n",
        "  error_a = ey / (np.sqrt(var) * np.sqrt(n))\n",
        "  error_b = error_a * np.sqrt(np.mean(np.power(x, 2)))\n",
        "  return a, error_a, b, error_b\n",
        "   \n",
        "param = lsq_sq(x, y)\n",
        "print(\"y = ({} +- {})x + ({} +- {})\".format(*param))\n",
        "\n",
        "def discrepancia(teorico, experimental):\n",
        "  print('Discrepância =', abs(teorico - experimental))\n",
        "\n",
        "discrepancia(632.8e-9, param[0])"
      ],
      "execution_count": 28,
      "outputs": [
        {
          "output_type": "stream",
          "text": [
            "y = (6.156404292651084e-07 +- 2.7033092585791827e-08)x + (0.00016944444444443995 +- 0.0002327787722068392)\n",
            "Discrepância = 1.7159570734891613e-08\n"
          ],
          "name": "stdout"
        }
      ]
    },
    {
      "cell_type": "code",
      "metadata": {
        "id": "TYQHf1-5yLkr"
      },
      "source": [
        ""
      ],
      "execution_count": null,
      "outputs": []
    }
  ]
}